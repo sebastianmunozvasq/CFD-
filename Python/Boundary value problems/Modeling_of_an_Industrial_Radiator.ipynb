{
  "cells": [
    {
      "cell_type": "markdown",
      "metadata": {
        "id": "view-in-github",
        "colab_type": "text"
      },
      "source": [
        "<a href=\"https://colab.research.google.com/github/sebastianmunozvasq/Portfolio-SMV/blob/Boundary-value-problems/Modeling_of_an_Industrial_Radiator.ipynb\" target=\"_parent\"><img src=\"https://colab.research.google.com/assets/colab-badge.svg\" alt=\"Open In Colab\"/></a>"
      ]
    },
    {
      "cell_type": "markdown",
      "metadata": {
        "id": "qCHqMv7945f7"
      },
      "source": [
        "## Modeling of an Industrial Radiator\n",
        "\n"
      ]
    },
    {
      "cell_type": "markdown",
      "metadata": {
        "id": "W8_EqgHi45f-"
      },
      "source": [
        "### Model Description\n",
        "\n",
        "Water radiators are part of the heating system equipment that helps maintain a comfortable temperature in a space when it is cold. A radiator can be modeled as a rectangular slot, with length $L$, height $B$, and depth $W$, through which hot water flows. The fluid heats the metal of the fins, which in turn heats the surrounding air through natural convection and radiation.\n",
        "\n",
        "The fluid flows from right to left in the $x$ direction. As a first approximation, a directional flow with a piston-like flow profile will be assumed. This flow profile is characterized by the fact that if a control volume of the fluid were taken, it would move like a \"piston\". Under this assumption, the velocity is constant throughout the space and equal to $v_0$. That is, velocity gradients near the pipe walls are neglected.\n",
        "\n",
        "Additionally, the system is in a steady state, so there are no temperature variations with respect to time.\n",
        "\n",
        "* It will be assumed that thermophysical properties are constant, and that the thermal resistance of the walls is negligible. For the calculation of thermophysical properties, it is suggested to use the average pressure of the water in the slot, which is $\\bar{P} = 200 kPa$.\n",
        "* It will also be assumed that the dimensions of the cross-sectional area of the slot are much smaller than its length. That is, $B \\ll L$ and $W \\ll L$. This implies that temperature variations in the $z$ and $y$ directions are negligible, and only variations in the direction parallel to the flow will be considered.\n"
      ]
    },
    {
      "cell_type": "markdown",
      "metadata": {
        "id": "zOpnDT9A45gA"
      },
      "source": [
        "### Governing Equation\n",
        "\n",
        "The ordinary differential equation (ODE) that describes the temperature profile of the pipe in a steady state, subject to heat losses due to natural convection and radiation, is:\n",
        "\n",
        "\\begin{equation}\n",
        "\\text{ODE}: \\alpha\\frac{d^2T}{dx^2} = v_{0}\\frac{dT}{dx} +  \\frac{2 h}{\\rho c_p B}(T-T_{aire}) + \\frac{2 \\sigma \\varepsilon}{\\rho c_p B}(T^4-T_{aire}^4)\n",
        "\\end{equation}\n",
        "\n",
        "This is a nonlinear differential equation due to the presence of $T^4$ in the radiant cooling term.\n"
      ]
    },
    {
      "cell_type": "markdown",
      "metadata": {
        "id": "fQlZCyFc45gB"
      },
      "source": [
        "### Boundary Conditions:\n",
        "\n",
        "For this model, it will be assumed that the temperature at the entrance of the slot is known. This is reasonable since most radiators or domestic boilers have a control system with a temperature sensor at the entrance. Therefore, at $x=0$, the following non-homogeneous Dirichlet boundary condition is applied:\n",
        "\n",
        "\\begin{equation}\n",
        "\\text{BC1}:  T|_{x=0} = T_{in}\n",
        "\\end{equation}\n",
        "\n",
        "At the radiator's exit, it will be assumed that the forced convection \"continues\" into the rest of the system without obstructions. This translates to a *through-flow* condition, which, in this particular case, takes the form of a homogeneous Neumann boundary condition:\n",
        "\n",
        "$$\\text{BC2}:\\frac{d T}{d x}|_{x=L} = 0$$\n"
      ]
    },
    {
      "cell_type": "markdown",
      "metadata": {
        "id": "ueYFiXnr45gB"
      },
      "source": [
        "#### Boundary Value Problem\n",
        "The ODE along with the boundary conditions CB1 and CB2 constitute a nonlinear boundary value problem. In this practical exercise:\n",
        "\n",
        "1. You will need to find the temperature profile using the fixed-point iteration method.\n",
        "2. Next, you will calculate engineering quantities of interest, such as the average temperature and the heat flux at different parts of the bar.\n",
        "3. Finally, you will compare the contributions of convection and conduction transport.\n"
      ]
    },
    {
      "cell_type": "markdown",
      "metadata": {
        "id": "hq8kp7ef45gC"
      },
      "source": [
        "\n",
        "#### PropsSI\n"
      ]
    },
    {
      "cell_type": "code",
      "execution_count": null,
      "metadata": {
        "colab": {
          "base_uri": "https://localhost:8080/"
        },
        "id": "92wJsqp645gC",
        "outputId": "6320b5f6-ba1d-4281-8bf8-ff01fac71f77"
      },
      "outputs": [
        {
          "output_type": "stream",
          "name": "stdout",
          "text": [
            "Requirement already satisfied: CoolProp in /usr/local/lib/python3.10/dist-packages (6.6.0)\n"
          ]
        }
      ],
      "source": [
        "# Import libraries for plotting\n",
        "import matplotlib.pyplot as plt\n",
        "\n",
        "# Import libraries for numerical computation\n",
        "import numpy as np\n",
        "\n",
        "# Install CoolProp\n",
        "!pip install CoolProp\n",
        "\n",
        "# Import thermophysical properties\n",
        "from CoolProp.CoolProp import PropsSI\n"
      ]
    },
    {
      "cell_type": "markdown",
      "metadata": {
        "id": "Z52VBgqV45gE"
      },
      "source": [
        "#### Definition of Variables\n",
        "\n",
        "The following code cell defines the values of the relevant geometric, heat transfer, and thermodynamic parameters needed to solve the problem of interest.\n"
      ]
    },
    {
      "cell_type": "code",
      "execution_count": null,
      "metadata": {
        "colab": {
          "base_uri": "https://localhost:8080/"
        },
        "id": "JEgXLLtV45gE",
        "outputId": "0fdf1e7e-2138-4eac-f738-24aeafc18eb0"
      },
      "outputs": [
        {
          "output_type": "stream",
          "name": "stdout",
          "text": [
            "Specific heat capacity = 4.193e+03\n",
            "Density = 9.750e+02\n",
            "Thermal conductivity = 6.635e-01\n",
            "Thermal diffusivity = 1.623e-07\n"
          ]
        }
      ],
      "source": [
        "L = 50                                                      # Length of the slot [m]\n",
        "B = 0.01                                                    # Width of the slot [m]\n",
        "W = 1                                                       # Height of the slot [m]\n",
        "v_0 = 1e-1                                                  # Fluid velocity [m s^-1]\n",
        "h = 30                                                      # Natural convection heat transfer coefficient [W m^-2 K^-1]\n",
        "em = 0.9                                                    # Material emissivity\n",
        "sigma = 5.670374419e-8                                      # Stefan-Boltzmann constant [W m^-2 K^-4]\n",
        "T_air = 273 + 18                                           # Air temperature [K]\n",
        "T_in = 273 + 75                                            # Inlet temperature [K]\n",
        "P = 200e3                                                   # Average pressure of water in the slot [Pa]\n",
        "\n",
        "# The following properties are obtained using the PropsSI function\n",
        "# from the CoolProp module\n",
        "\n",
        "c_p = PropsSI('C', 'T', T_in, 'P', P, 'Water')               # Specific heat capacity at constant pressure [J kg^-1 K^-1]\n",
        "rho = PropsSI('D', 'T', T_in, 'P', P, 'Water')               # Fluid density [kg m^-3]\n",
        "k = PropsSI('L', 'T', T_in, 'P', P, 'Water')                 # Thermal conductivity [W m^-1 K^-1]\n",
        "alpha = k / (rho * c_p)                                      # Thermal diffusivity [m^2 s^-1]\n",
        "\n",
        "# The following code prints the values obtained from CoolProp.\n",
        "# Units were defined above.\n",
        "w = [print(f\"{name} = {value:.3e}\") for name, value in [('Specific heat capacity', c_p), ('Density', rho), ('Thermal conductivity', k), ('Thermal diffusivity', alpha)]]\n",
        "\n"
      ]
    },
    {
      "cell_type": "markdown",
      "metadata": {
        "id": "lVibcAPz45gF"
      },
      "source": [
        "### Part 1: Discretization of the Boundary Value Problem\n"
      ]
    },
    {
      "cell_type": "markdown",
      "metadata": {
        "id": "9GYPc23Z45gF"
      },
      "source": [
        "#### Discretization\n",
        "1. Write the discretized equation valid for the interior nodes of the domain.\n",
        "2. Factor the resulting expression to find the terms that multiply $T_{i-1}$, $T_i$, and $T_{i+1}$. These terms should be on the left side of the equation.\n",
        "3. Ensure that on the right side, you have the components of the vector $\\mathbf{b}$ that do not depend on the temperatures of the nodes, and the nonlinear function $\\mathbf{f}(T_i)$.\n",
        "4. Discretize the boundary conditions. For the second boundary condition, use second-order backward finite differences.\n"
      ]
    },
    {
      "cell_type": "markdown",
      "metadata": {
        "id": "psHfmvlp45gF"
      },
      "source": [
        "### Part 2: Numerical Implementation\n",
        "\n",
        "#### 2.1 Generating Matrices and Vectors\n",
        "In the following cell, you will generate the base matrices and vectors to apply the algorithm.\n",
        "\n",
        "* First, define the one-dimensional grid in the direction $x$. Use 1001 nodes.\n",
        "* Then, construct the coefficient matrix A.\n",
        "* Finally, construct the right-hand side vector b."
      ]
    },
    {
      "cell_type": "code",
      "execution_count": null,
      "metadata": {
        "id": "jSgiqSt645gG",
        "colab": {
          "base_uri": "https://localhost:8080/"
        },
        "outputId": "7814ec98-6598-4f8c-8b70-6abaa2a7df22"
      },
      "outputs": [
        {
          "output_type": "stream",
          "name": "stdout",
          "text": [
            "[348.          -0.42710721  -0.42710721  -0.42710721  -0.42710721\n",
            "  -0.42710721  -0.42710721  -0.42710721  -0.42710721  -0.42710721\n",
            "  -0.42710721  -0.42710721  -0.42710721  -0.42710721  -0.42710721\n",
            "  -0.42710721  -0.42710721  -0.42710721  -0.42710721  -0.42710721\n",
            "  -0.42710721  -0.42710721  -0.42710721  -0.42710721  -0.42710721\n",
            "  -0.42710721  -0.42710721  -0.42710721  -0.42710721  -0.42710721\n",
            "  -0.42710721  -0.42710721  -0.42710721  -0.42710721  -0.42710721\n",
            "  -0.42710721  -0.42710721  -0.42710721  -0.42710721  -0.42710721\n",
            "  -0.42710721  -0.42710721  -0.42710721  -0.42710721  -0.42710721\n",
            "  -0.42710721  -0.42710721  -0.42710721  -0.42710721  -0.42710721\n",
            "  -0.42710721  -0.42710721  -0.42710721  -0.42710721  -0.42710721\n",
            "  -0.42710721  -0.42710721  -0.42710721  -0.42710721  -0.42710721\n",
            "  -0.42710721  -0.42710721  -0.42710721  -0.42710721  -0.42710721\n",
            "  -0.42710721  -0.42710721  -0.42710721  -0.42710721  -0.42710721\n",
            "  -0.42710721  -0.42710721  -0.42710721  -0.42710721  -0.42710721\n",
            "  -0.42710721  -0.42710721  -0.42710721  -0.42710721  -0.42710721\n",
            "  -0.42710721  -0.42710721  -0.42710721  -0.42710721  -0.42710721\n",
            "  -0.42710721  -0.42710721  -0.42710721  -0.42710721  -0.42710721\n",
            "  -0.42710721  -0.42710721  -0.42710721  -0.42710721  -0.42710721\n",
            "  -0.42710721  -0.42710721  -0.42710721  -0.42710721  -0.42710721\n",
            "   0.        ]\n"
          ]
        }
      ],
      "source": [
        "# Number of nodes\n",
        "x_range = (0.0, L)\n",
        "N = 101\n",
        "\n",
        "# Spacing\n",
        "dx = L/(N-1)\n",
        "\n",
        "# Grid\n",
        "x_grid = np.linspace(0.0, L, N)\n",
        "\n",
        "# Matrix initialization\n",
        "# Natural convection parameter\n",
        "k1 = 2 * h / (B * rho * c_p)\n",
        "\n",
        "# Radiation parameter\n",
        "k2 = 2 * em * sigma / (B * rho * c_p)\n",
        "\n",
        "# Conduction parameter\n",
        "r1 = alpha / (dx**2)\n",
        "\n",
        "# Convection parameter\n",
        "r2 = v_0 / (2 * dx)\n",
        "\n",
        "A = np.zeros([N, N])\n",
        "# First row of the matrix associated with node i = 0\n",
        "A[0][0] = 1\n",
        "\n",
        "# For loop for intermediate rows from i = 1 to Nx-1\n",
        "for i in range(1, N-1):\n",
        "    # Constant multiplying T[i-1]\n",
        "    A[i][i-1] = r1 + r2\n",
        "\n",
        "    # Constant multiplying T[i]\n",
        "    A[i][i] = -2*r1 - k1\n",
        "\n",
        "    # Constant multiplying T[i+1]\n",
        "    A[i][i+1] = r1 - r2\n",
        "\n",
        "# Last row of the matrix associated with node i = N\n",
        "A[-1][-3] = 1\n",
        "A[-1][-2] = -4\n",
        "A[-1][-1] = 3\n",
        "# Note that the temperature value at this node will directly depend\n",
        "# on the values of the two previous nodes\n",
        "\n",
        "# Construct the vector b\n",
        "b = np.zeros(N)\n",
        "\n",
        "# First element of the vector b\n",
        "b[0] = T_in\n",
        "\n",
        "# Intermediate elements of the vector b\n",
        "for i in range(1, N-1):\n",
        "    b[i] = - k1 * T_air\n",
        "\n",
        "# Last element\n",
        "b[-1] = 0\n",
        "print(b)\n"
      ]
    },
    {
      "cell_type": "markdown",
      "metadata": {
        "id": "Xs0K2XlF45gG"
      },
      "source": [
        "#### 2.2 Fixed-Point Iteration Implementation\n",
        "In this section, you will implement the fixed-point iteration. Note that the right-hand side vector f will be initialized and updated in the next cell. Since this function is nonlinear, its value will vary with each iteration.\n"
      ]
    },
    {
      "cell_type": "code",
      "execution_count": null,
      "metadata": {
        "id": "N36yX03q45gG",
        "colab": {
          "base_uri": "https://localhost:8080/"
        },
        "outputId": "7ab2a78c-9100-4b2c-95f3-ea2584328213"
      },
      "outputs": [
        {
          "output_type": "stream",
          "name": "stdout",
          "text": [
            "j error\n",
            "0 30.114157484022257\n",
            "1 1.9593105525876657\n",
            "2 0.09493885356352398\n",
            "3 0.0037495396714459484\n",
            "4 0.00013516898193375747\n",
            "5 5.574080098495184e-06\n",
            "6 3.0973109983351544e-07\n"
          ]
        }
      ],
      "source": [
        "# Initialize zero vector for the right-hand side vector f\n",
        "f = np.zeros(N)\n",
        "\n",
        "# Initialize temperature vector\n",
        "\n",
        "# Find an initial solution consisting of the\n",
        "# temperature profile without considering the function f\n",
        "Tconv = np.linalg.solve(A, b)\n",
        "T0 = Tconv\n",
        "\n",
        "# Initialize a counter to 0\n",
        "j = 0\n",
        "\n",
        "# Define a maximum number of iterations\n",
        "jmax = 1000\n",
        "\n",
        "# Initialize an error. Consider a value larger than the tolerance\n",
        "err = 1\n",
        "\n",
        "# Define tolerance\n",
        "tol = 1e-6\n",
        "\n",
        "# Print error\n",
        "print('j error')\n",
        "\n",
        "# Iteration\n",
        "# While loop\n",
        "while err > tol and j < jmax:\n",
        "    # Construct right-hand side vector for interior nodes\n",
        "    for i in range(1, N-1):\n",
        "        f[i] = k2 * (T0[i]**4 - T_air**4)\n",
        "\n",
        "    # Solve matrix system\n",
        "    tmp = b + f\n",
        "    T = np.linalg.solve(A, tmp)\n",
        "\n",
        "    # Calculate new error\n",
        "    err = np.linalg.norm(T - T0)\n",
        "    print(j, err)\n",
        "\n",
        "    # Increase iteration counter\n",
        "    j = j + 1\n",
        "\n",
        "    # Update old temperature to the new temperature calculated in this iteration\n",
        "    T0 = T\n"
      ]
    },
    {
      "cell_type": "code",
      "execution_count": null,
      "metadata": {
        "id": "xVCn9ZJx45gG",
        "colab": {
          "base_uri": "https://localhost:8080/",
          "height": 391
        },
        "outputId": "278aaadd-ac90-44b5-e09f-c03677152abb"
      },
      "outputs": [
        {
          "output_type": "display_data",
          "data": {
            "text/plain": [
              "<Figure size 800x400 with 1 Axes>"
            ],
            "image/png": "[encoded data removed]"
          },
          "metadata": {}
        }
      ],
      "source": [
        "# Optional: plot the temperature profile\n",
        "fig = plt.subplots(figsize=[8, 4])\n",
        "\n",
        "plt.plot(x_grid, T, color='indigo', label='Cooling by convection + radiation')\n",
        "plt.plot(x_grid, Tconv, 'lightskyblue', label='Cooling by convection')\n",
        "plt.plot(x_grid, x_grid * 0 + T_air, 'k--', label='$T_{air}$')\n",
        "\n",
        "plt.grid()\n",
        "plt.legend(fontsize=10)\n",
        "plt.tick_params(labelsize=10)\n",
        "plt.xlabel('Coordinate $x$ / m')\n",
        "plt.ylabel('Temperature / K')\n",
        "\n",
        "plt.show()\n"
      ]
    },
    {
      "cell_type": "markdown",
      "metadata": {
        "id": "z3YUXNUh45gH"
      },
      "source": [
        "What is the outlet temperature of the radiator water?"
      ]
    },
    {
      "cell_type": "code",
      "execution_count": null,
      "metadata": {
        "id": "n3kQHj8V45gH",
        "colab": {
          "base_uri": "https://localhost:8080/"
        },
        "outputId": "50146bf3-dd14-4531-9b5b-d855e842c54b"
      },
      "outputs": [
        {
          "output_type": "stream",
          "name": "stdout",
          "text": [
            "Radiator water outlet temperature: 314.61 K\n"
          ]
        }
      ],
      "source": [
        "# Write the code to solve the question\n",
        "print(f\"Radiator water outlet temperature: {T[-1]:.2f} K\")\n"
      ]
    },
    {
      "cell_type": "markdown",
      "metadata": {
        "id": "f0rnh1LA45gH"
      },
      "source": [
        "#### Calculate the average temperature of the water in the radiator.\n",
        "\n"
      ]
    },
    {
      "cell_type": "code",
      "execution_count": null,
      "metadata": {
        "id": "bm6vnz4C45gH",
        "colab": {
          "base_uri": "https://localhost:8080/"
        },
        "outputId": "1fba65e3-a242-4d46-9e60-4ddcb4085df2"
      },
      "outputs": [
        {
          "output_type": "stream",
          "name": "stdout",
          "text": [
            "Average radiator water temperature: 328.76 K\n"
          ]
        }
      ],
      "source": [
        "# Resolution code\n",
        "T_average = np.trapz(T,x_grid)/L\n",
        "\n",
        "print(f\"Average radiator water temperature: {T_average:.2f} K\")"
      ]
    },
    {
      "cell_type": "markdown",
      "metadata": {
        "id": "hF7prchO45gI"
      },
      "source": [
        "#### Calculate the heat flux removed by natural convection.\n"
      ]
    },
    {
      "cell_type": "code",
      "source": [
        "# Calculation of the heat flux removed by natural convection\n",
        "\n",
        "# Volume of the fluid inside the slit\n",
        "fluid_volume = L * B * W # m^3\n",
        "\n",
        "# Natural convection term (in W/m3)\n",
        "Q_conv_term = 2 * h * (T - T_air) / B\n",
        "\n",
        "# Average natural convection term along the slit\n",
        "Q_conv_term_average = np.mean(Q_conv_term)\n",
        "\n",
        "# Heat flux removed by natural convection (in W)\n",
        "Q_conv = Q_conv_term_average * fluid_volume\n",
        "\n",
        "# Conversion to kilowatts\n",
        "Q_conv_kW = Q_conv / 1000 # kW\n",
        "\n",
        "# Result\n",
        "print(f\"Heat flux removed by natural convection: {Q_conv_kW:.1f} kW\")"
      ],
      "metadata": {
        "colab": {
          "base_uri": "https://localhost:8080/"
        },
        "id": "ZOZfOOYLzm6N",
        "outputId": "0c639e8b-ba27-4226-aa16-3180a27872f9"
      },
      "execution_count": null,
      "outputs": [
        {
          "output_type": "stream",
          "name": "stdout",
          "text": [
            "Heat flux removed by natural convection: 113.4 kW\n"
          ]
        }
      ]
    },
    {
      "cell_type": "markdown",
      "metadata": {
        "id": "I236fleC45gI"
      },
      "source": [
        "#### Calculate the ratio of the heat flux removed by radiation to the total heat flux.\n"
      ]
    },
    {
      "cell_type": "code",
      "execution_count": null,
      "metadata": {
        "id": "pe52pCoF45gI",
        "colab": {
          "base_uri": "https://localhost:8080/"
        },
        "outputId": "79e886d9-8cf6-46cc-cd18-fb89041831c5"
      },
      "outputs": [
        {
          "output_type": "stream",
          "name": "stdout",
          "text": [
            "Heat flux removed by radiation: 23.4 kW\n",
            "Ratio of heat flux removed by radiation to total heat flux: 0.171\n"
          ]
        }
      ],
      "source": [
        "# Calculation of the heat flux removed by radiation\n",
        "\n",
        "# Radiation term (in W/m3)\n",
        "Q_rad_term = 2 * em * sigma * (T**4 - T_air**4) / B\n",
        "\n",
        "# Average radiation term along the slit\n",
        "Q_rad_term_average = np.mean(Q_rad_term)\n",
        "\n",
        "# Radiated heat flux removed by radiation (in W)\n",
        "Q_rad = Q_rad_term_average * fluid_volume\n",
        "\n",
        "# Conversion to kilowatts\n",
        "Q_rad_kW = Q_rad / 1000 # kW\n",
        "\n",
        "# Total heat flux removed (convection + radiation)\n",
        "Q_total = Q_conv + Q_rad\n",
        "\n",
        "# Ratio of radiative heat flux removed to total heat flux\n",
        "reason_Q_rad_Q_total = Q_rad / Q_total\n",
        "\n",
        "# Results\n",
        "print(f\"Heat flux removed by radiation: {Q_rad_kW:.1f} kW\")\n",
        "print(f\"Ratio of heat flux removed by radiation to total heat flux: {reason_Q_rad_Q_total:.3f}\")"
      ]
    }
  ],
  "metadata": {
    "kernelspec": {
      "display_name": "Python 3 (ipykernel)",
      "language": "python",
      "name": "python3"
    },
    "language_info": {
      "codemirror_mode": {
        "name": "ipython",
        "version": 3
      },
      "file_extension": ".py",
      "mimetype": "text/x-python",
      "name": "python",
      "nbconvert_exporter": "python",
      "pygments_lexer": "ipython3",
      "version": "3.10.4"
    },
    "colab": {
      "provenance": [],
      "include_colab_link": true
    }
  },
  "nbformat": 4,
  "nbformat_minor": 0
}