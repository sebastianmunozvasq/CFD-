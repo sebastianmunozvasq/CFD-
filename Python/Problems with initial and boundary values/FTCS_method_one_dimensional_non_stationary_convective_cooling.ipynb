{
  "cells": [
    {
      "cell_type": "markdown",
      "metadata": {
        "id": "view-in-github",
        "colab_type": "text"
      },
      "source": [
        "<a href=\"https://colab.research.google.com/github/sebastianmunozvasq/Portfolio-SMV/blob/Problems-with-initial-and-boundary-values/FTCS_method_one_dimensional_non_stationary_convective_cooling.ipynb\" target=\"_parent\"><img src=\"https://colab.research.google.com/assets/colab-badge.svg\" alt=\"Open In Colab\"/></a>"
      ]
    },
    {
      "cell_type": "markdown",
      "id": "edf09927",
      "metadata": {
        "id": "edf09927"
      },
      "source": [
        "### Computational implementation of the FTCS method to solve the one-dimensional non-stationary convective cooling of a bar.\n",
        "\n"
      ]
    },
    {
      "cell_type": "markdown",
      "id": "c626c3f2",
      "metadata": {
        "id": "c626c3f2"
      },
      "source": [
        "It is desired to know the temperature profile in a cylindrical aluminum bar of very thin radius and length $L = 1 m$. We will consider the axial coordinate as $z$ and that heat transfer occurs only in this direction.\n",
        "\n",
        "* At $z = 0$, the rod is attached to a very large hot body whose temperature is constant and equal to $T_w = 400 K$.\n",
        "* At $z = L$, axial heat transfer can be neglected since the cross-sectional area of the bar is very small.\n",
        "* At $t = 0$, which represents the beginning of the process, the temperature of the whole bar is equal to $T_0 = 400 K$.\n",
        "* Over time, the bar cools by natural convection from the surroundings characterized by a convection coefficient $h = 20 Wm^{-2}K^{-1}$ and an ambient temperature $T_{\\infty} = 298 K$.\n",
        "* The thermal diffusivity of the bar is $\\alpha = 9.586$ $\\times$ $10^{-5}$ m s $^{-2}$.\n",
        "* The diameter of the bar is $d_i = 5,08$ cm.\n",
        "* The specific heat of aluminum is approximately $\\hat{c}_p = 897$ J / kg / K.\n",
        "\n",
        "The differential balance of this system produces the following partial differential equation\n",
        "\n",
        "$$ \\frac{\\partial T}{\\partial t} = \\alpha \\frac{\\partial^2 T}{\\partial z^2} - \\frac{4h}{\\rho \\hat{c}_p d_i} (T-T_{\\infty}) $$\n",
        "\n",
        "Subject to initial condition\n",
        "\n",
        "IC: $T(z, t=0) = T_0 = 400 K$\n",
        "\n",
        "And the boundary conditions:\n",
        "\n",
        "BC1: $ T(z=0, t) = T_w = 400 K $\n",
        "\n",
        "BC2: $  \\frac{\\partial T}{\\partial z} (z=L, t) = 0 $\n",
        "\n",
        "Next, we proceed with the following steps to solve the IBP:\n",
        "\n",
        "1. Discretize the resulting differential equation using finite differences in space and time 2.\n",
        "2. Implement a numerical algorithm to find the solution to the system during the first 3600 seconds of the process."
      ]
    },
    {
      "cell_type": "markdown",
      "id": "ac7ffbdf",
      "metadata": {
        "id": "ac7ffbdf"
      },
      "source": [
        "### Part 1)\n",
        "\n",
        "We will use the FTCS method. Let $j$ and $j+1$ be the time of the current iteration and the time of the next iteration, respectively. These will appear in superscripts next to the discretized variable. In the subscripts will appear the indices associated with the nodes coming from the spatial discretization of the geometric domain. Finally, we note that convective cooling constitutes a heat sink term. When discretizing this term, the temperature as a continuous variable is replaced by the temperature of the central node $ i $. By applying the FTCS method, the following discretized equation is obtained:"
      ]
    },
    {
      "cell_type": "markdown",
      "id": "80fc0d93",
      "metadata": {
        "id": "80fc0d93"
      },
      "source": [
        "$$ \\frac{T_i^{j+1}-T_i^{j}}{\\Delta t} = \\alpha \\frac{T_{i+1}^j - 2 T_{i}^j + T_{i-1}^j}{\\Delta z ^2} - \\frac{4h}{\\rho \\hat{c}_p d_i} (T^{j}_i-T_{\\infty})  $$"
      ]
    },
    {
      "cell_type": "markdown",
      "id": "5d92c780",
      "metadata": {
        "id": "5d92c780"
      },
      "source": [
        "By rearranging terms, we obtain the iteration to find the evolution of the system:"
      ]
    },
    {
      "cell_type": "markdown",
      "id": "cd0887f2",
      "metadata": {
        "id": "cd0887f2"
      },
      "source": [
        "$$ T_i^{j+1} = T_i^{j} +  \\Delta t \\left( \\alpha\\frac{T_{i+1}^j - 2 T_{i}^j + T_{i-1}^j}{\\Delta z ^2} - \\frac{4h}{\\rho \\hat{c}_p d_i} (T^{j}_i-T_{\\infty}) \\right), \\hspace{0.5cm} 1 \\leq i \\leq N_z - 1$$"
      ]
    },
    {
      "cell_type": "markdown",
      "id": "c9cfe3f0",
      "metadata": {
        "id": "c9cfe3f0"
      },
      "source": [
        "This equation is valid for all interior nodes. The first and last nodes are denoted by $i = 0$ and $i = N_z$, respectively. For these nodes, the evolution equation is determined by the boundary conditions of the problem. We can matrix write this equation as follows,"
      ]
    },
    {
      "cell_type": "markdown",
      "id": "8066b5c4",
      "metadata": {
        "id": "8066b5c4"
      },
      "source": [
        "$$ \\mathbf{T}^{j+1} = \\mathbf{T}^{j} + \\Delta t \\cdot (\\mathbf{A} \\mathbf{T}^{j} + \\mathbf{b})  $$"
      ]
    },
    {
      "cell_type": "markdown",
      "id": "34e56975",
      "metadata": {
        "id": "34e56975"
      },
      "source": [
        "Writing this iteration in a matrix form allows us to greatly reduce the computational time required to compute the solution. This is because we replace a native Python loop with a matrix multiplication in NumPy. Since much of the NumPy module is programmed in a high-level language such as C++, this matrix multiplication is much faster."
      ]
    },
    {
      "cell_type": "markdown",
      "id": "0b8677b5",
      "metadata": {
        "id": "0b8677b5"
      },
      "source": [
        "Part 2) Implementation of the numerical method"
      ]
    },
    {
      "cell_type": "markdown",
      "id": "dfe8e0d9",
      "metadata": {
        "id": "dfe8e0d9"
      },
      "source": [
        "We import the necessary modules"
      ]
    },
    {
      "cell_type": "code",
      "execution_count": null,
      "id": "445516ef",
      "metadata": {
        "id": "445516ef"
      },
      "outputs": [],
      "source": [
        "# Scientific computing\n",
        "import numpy as np\n",
        "\n",
        "# Plotting\n",
        "import matplotlib.pyplot as plt\n",
        "\n",
        "# Colormaps\n",
        "from matplotlib import cm\n",
        "\n",
        "# Special functions\n",
        "from scipy.special import erf, erfc\n"
      ]
    },
    {
      "cell_type": "markdown",
      "id": "191c6a0b",
      "metadata": {
        "id": "191c6a0b"
      },
      "source": [
        "We define the initial temperature and the temperature at the end $z = 0$."
      ]
    },
    {
      "cell_type": "code",
      "execution_count": null,
      "id": "0c59137a",
      "metadata": {
        "id": "0c59137a"
      },
      "outputs": [],
      "source": [
        "# Initial temperature of the bar\n",
        "T_0 = 400  # K\n",
        "\n",
        "# Temperature at z = 0\n",
        "T_w = 400  # K\n"
      ]
    },
    {
      "cell_type": "markdown",
      "id": "bd337479",
      "metadata": {
        "id": "bd337479"
      },
      "source": [
        "We define the physical parameters associated with the partial differential equation:"
      ]
    },
    {
      "cell_type": "code",
      "execution_count": null,
      "id": "519265af",
      "metadata": {
        "id": "519265af"
      },
      "outputs": [],
      "source": [
        "# Thickness of the bar\n",
        "L = 1  # m\n",
        "\n",
        "# Thermal diffusivity\n",
        "alpha = 9.586e-5  # m^2/s\n",
        "\n",
        "# Density of the aluminum bar\n",
        "rho = 2700  # kg/m^3\n",
        "\n",
        "# Specific heat capacity at constant pressure\n",
        "c_p = 897  # J / kg / K\n",
        "\n",
        "# Diameter of the bar\n",
        "d_i = 0.0254  # m\n",
        "\n",
        "# Natural convection heat transfer coefficient\n",
        "h = 20  # W/m^2/K\n"
      ]
    },
    {
      "cell_type": "markdown",
      "id": "6f58a078",
      "metadata": {
        "id": "6f58a078"
      },
      "source": [
        "We define the simulation parameters"
      ]
    },
    {
      "cell_type": "code",
      "execution_count": null,
      "id": "7d5851bf",
      "metadata": {
        "id": "7d5851bf"
      },
      "outputs": [],
      "source": [
        "# Number of nodes in the z dimension\n",
        "n_z = 101\n",
        "\n",
        "# Time step\n",
        "dt = 0.5  # s\n",
        "\n",
        "# Initialize the mesh\n",
        "z = np.linspace(0, L, n_z + 1)\n",
        "\n",
        "# Mesh spacing\n",
        "dz = L / (n_z - 1)\n",
        "\n",
        "# Initial condition\n",
        "T = np.ones(n_z + 1) * T_0\n",
        "\n",
        "# Initial time\n",
        "t_0 = 0\n",
        "\n",
        "# Final time\n",
        "t_f = 3600  # s\n"
      ]
    },
    {
      "cell_type": "markdown",
      "id": "d6e03598",
      "metadata": {
        "id": "d6e03598"
      },
      "source": [
        "We construct the coefficient matrix and fill it row by row for the interior nodes. These coefficients come from the PDE discretization."
      ]
    },
    {
      "cell_type": "code",
      "execution_count": null,
      "id": "6105cd5d",
      "metadata": {
        "id": "6105cd5d"
      },
      "outputs": [],
      "source": [
        "# Create the matrix\n",
        "A = np.zeros([n_z + 1, n_z + 1])\n",
        "\n",
        "# Iteration\n",
        "for i in range(1, n_z):\n",
        "    # Coefficients for the left node, (i-1)\n",
        "    A[i, i-1] = alpha / (dz**2)\n",
        "\n",
        "    # Coefficients for the central node, i\n",
        "    A[i, i] = -2 * alpha / (dz**2) - 4 * h / (rho * c_p * d_i)\n",
        "\n",
        "    # Coefficients for the right node, i + 1\n",
        "    A[i, i+1] = alpha / (dz**2)\n"
      ]
    },
    {
      "cell_type": "markdown",
      "id": "bbb07f33",
      "metadata": {
        "id": "bbb07f33"
      },
      "source": [
        "We construct the vector $b$ which has the same dimension as the temperature,"
      ]
    },
    {
      "cell_type": "code",
      "execution_count": null,
      "id": "0e6ca8ac",
      "metadata": {
        "id": "0e6ca8ac"
      },
      "outputs": [],
      "source": [
        "# Ambient temperature\n",
        "T_inf = 298 # K\n",
        "\n",
        "# Right-hand side vector\n",
        "b = np.ones(len(T)) * 4 * h / (rho * c_p * d_i) * T_inf\n"
      ]
    },
    {
      "cell_type": "markdown",
      "id": "1eba4750",
      "metadata": {
        "id": "1eba4750"
      },
      "source": [
        "Discretizing the Dirichlet boundary condition at $z = 0$, we have\n",
        "\n",
        "$$ T^{j}_{0} = T_w $$"
      ]
    },
    {
      "cell_type": "code",
      "execution_count": null,
      "id": "61172ae1",
      "metadata": {
        "id": "61172ae1"
      },
      "outputs": [],
      "source": [
        "# As the temperature of the first node does not change with time, the coefficient associated with this temperature in the matrix A is set to zero\n",
        "A[0, 0] = 0\n",
        "\n",
        "# We also set the right-hand side vector for the first node to zero\n",
        "b[0] = 0\n"
      ]
    },
    {
      "cell_type": "markdown",
      "id": "b760125a",
      "metadata": {
        "id": "b760125a"
      },
      "source": [
        "Discretizing the Neumann boundary condition at $z = L$, using second-order centered differences\n",
        "\n",
        "$$ 3T^{j}_{N_z} - 4T^{j}_{N_z-1} + 1 T^{j}_{N_z-2}  = 0$$"
      ]
    },
    {
      "cell_type": "code",
      "execution_count": null,
      "id": "3492d27d",
      "metadata": {
        "id": "3492d27d"
      },
      "outputs": [],
      "source": [
        "# Second-order boundary condition\n",
        "\n",
        "A[-1, -1] = 3\n",
        "A[-1, -2] = -4\n",
        "A[-1, -3] = 1\n",
        "\n",
        "# Remains zero because it is a homogeneous boundary condition\n",
        "b[-1] = 0\n"
      ]
    },
    {
      "cell_type": "markdown",
      "id": "0361e88c",
      "metadata": {
        "id": "0361e88c"
      },
      "source": [
        "We verify that the sparse matrix using the command `ax.spy`."
      ]
    },
    {
      "cell_type": "code",
      "execution_count": null,
      "id": "98e05505",
      "metadata": {
        "colab": {
          "base_uri": "https://localhost:8080/",
          "height": 316
        },
        "id": "98e05505",
        "outputId": "92e4f591-7c54-4919-b9c6-edeb92c771f8"
      },
      "outputs": [
        {
          "output_type": "display_data",
          "data": {
            "text/plain": [
              "<Figure size 300x300 with 1 Axes>"
            ],
            "image/png": "[encoded data removed]"
          },
          "metadata": {}
        }
      ],
      "source": [
        "# Create a 3 x 3 subplot\n",
        "fig, ax = plt.subplots(1, 1, figsize=[3, 3])\n",
        "\n",
        "# Plot the sparsity pattern of the matrix\n",
        "ax.spy(A, markersize=3)\n",
        "plt.show()\n"
      ]
    },
    {
      "cell_type": "markdown",
      "id": "78d25cd4",
      "metadata": {
        "id": "78d25cd4"
      },
      "source": [
        "In NumPy, the product between a matrix and a vector is computed using the syntax `np.dot(A,T)`. Before constructing the iteration of the temperature evolution, we test the syntax for one iteration in order to intuitively validate the construction of the matrix A\n",
        "$$ \\mathbf{T}^{j+1} = \\mathbf{T}^{j} + \\Delta t \\cdot (\\mathbf{A} \\mathbf{T}^{j} + \\mathbf{b})  $$\n",
        "\n",
        "Where `T_new` stands for $\\mathbf{T}^{j+1}$ y Where `T` stands for $\\mathbf{T}^{j}$."
      ]
    },
    {
      "cell_type": "code",
      "execution_count": null,
      "id": "28d2797c",
      "metadata": {
        "id": "28d2797c",
        "colab": {
          "base_uri": "https://localhost:8080/"
        },
        "outputId": "cc9dedb3-6042-4a50-8a56-d485bd288752"
      },
      "outputs": [
        {
          "output_type": "execute_result",
          "data": {
            "text/plain": [
              "array([400.        , 399.93367607, 399.93367607, 399.93367607,\n",
              "       399.93367607, 399.93367607, 399.93367607, 399.93367607,\n",
              "       399.93367607, 399.93367607, 399.93367607, 399.93367607,\n",
              "       399.93367607, 399.93367607, 399.93367607, 399.93367607,\n",
              "       399.93367607, 399.93367607, 399.93367607, 399.93367607,\n",
              "       399.93367607, 399.93367607, 399.93367607, 399.93367607,\n",
              "       399.93367607, 399.93367607, 399.93367607, 399.93367607,\n",
              "       399.93367607, 399.93367607, 399.93367607, 399.93367607,\n",
              "       399.93367607, 399.93367607, 399.93367607, 399.93367607,\n",
              "       399.93367607, 399.93367607, 399.93367607, 399.93367607,\n",
              "       399.93367607, 399.93367607, 399.93367607, 399.93367607,\n",
              "       399.93367607, 399.93367607, 399.93367607, 399.93367607,\n",
              "       399.93367607, 399.93367607, 399.93367607, 399.93367607,\n",
              "       399.93367607, 399.93367607, 399.93367607, 399.93367607,\n",
              "       399.93367607, 399.93367607, 399.93367607, 399.93367607,\n",
              "       399.93367607, 399.93367607, 399.93367607, 399.93367607,\n",
              "       399.93367607, 399.93367607, 399.93367607, 399.93367607,\n",
              "       399.93367607, 399.93367607, 399.93367607, 399.93367607,\n",
              "       399.93367607, 399.93367607, 399.93367607, 399.93367607,\n",
              "       399.93367607, 399.93367607, 399.93367607, 399.93367607,\n",
              "       399.93367607, 399.93367607, 399.93367607, 399.93367607,\n",
              "       399.93367607, 399.93367607, 399.93367607, 399.93367607,\n",
              "       399.93367607, 399.93367607, 399.93367607, 399.93367607,\n",
              "       399.93367607, 399.93367607, 399.93367607, 399.93367607,\n",
              "       399.93367607, 399.93367607, 399.93367607, 399.93367607,\n",
              "       399.93367607, 399.93367607])"
            ]
          },
          "metadata": {},
          "execution_count": 12
        }
      ],
      "source": [
        "# Example of one iteration\n",
        "T_new = T + (np.dot(A, T) + b) * dt\n",
        "\n",
        "# Correct the second-order boundary condition with a separate line\n",
        "T_new[-1] = (4 * T_new[-2] - T_new[-3]) / 3\n",
        "\n",
        "# Explore the variable\n",
        "T_new\n"
      ]
    },
    {
      "cell_type": "markdown",
      "id": "71f559aa",
      "metadata": {
        "id": "71f559aa"
      },
      "source": [
        "We can notice that the bar temperature decreased by approximately 0.1 K after one time step. We are now in a position to calculate the time-dependent temperature profile:"
      ]
    },
    {
      "cell_type": "code",
      "execution_count": null,
      "id": "ef7afad1",
      "metadata": {
        "scrolled": true,
        "id": "ef7afad1"
      },
      "outputs": [],
      "source": [
        "# Initial integration time\n",
        "t = 0\n",
        "\n",
        "# Final integration time\n",
        "t_max = 1800\n",
        "\n",
        "# We will save the results after 300 s\n",
        "write_interval = 300\n",
        "\n",
        "# List to accumulate times where temperature profiles are saved\n",
        "t_vec = []\n",
        "\n",
        "# Generate a copy of the temperature\n",
        "T_old = np.copy(T)\n",
        "\n",
        "# List with temperature profiles for each write_interval\n",
        "T_num = []\n",
        "\n",
        "# Evolution equation from t = 0 to t_max\n",
        "while t < t_max:\n",
        "    # Update temperatures\n",
        "    T_new = T_old + (np.dot(A, T_old) + b) * dt\n",
        "    T_new[-1] = (4 * T_new[-2] - T_new[-3]) / 3\n",
        "\n",
        "    # Advance the time\n",
        "    t += dt\n",
        "    # print(t)\n",
        "\n",
        "    T_old = np.copy(T_new)\n",
        "\n",
        "    # Save the temperature profile and time\n",
        "    if (t % write_interval) < 0.9 * dt:\n",
        "        T_num.append(T_new)\n",
        "\n",
        "        # Save the time\n",
        "        t_vec.append(t)\n"
      ]
    },
    {
      "cell_type": "markdown",
      "id": "20e32ea2",
      "metadata": {
        "id": "20e32ea2"
      },
      "source": [
        "Routine for plotting"
      ]
    },
    {
      "cell_type": "code",
      "execution_count": null,
      "id": "d997c2c7",
      "metadata": {
        "colab": {
          "base_uri": "https://localhost:8080/",
          "height": 449
        },
        "id": "d997c2c7",
        "outputId": "80fc767b-c0b7-4052-fac2-027e619fcd2a"
      },
      "outputs": [
        {
          "output_type": "stream",
          "name": "stderr",
          "text": [
            "<ipython-input-14-1004ed3e1a12>:7: MatplotlibDeprecationWarning: The get_cmap function was deprecated in Matplotlib 3.7 and will be removed two minor releases later. Use ``matplotlib.colormaps[name]`` or ``matplotlib.colormaps.get_cmap(obj)`` instead.\n",
            "  cividis = cm.get_cmap(\"cividis\", n_temp)\n"
          ]
        },
        {
          "output_type": "display_data",
          "data": {
            "text/plain": [
              "<Figure size 500x400 with 1 Axes>"
            ],
            "image/png": "[encoded data removed]"
          },
          "metadata": {}
        }
      ],
      "source": [
        "fig, ax = plt.subplots(1, 1, figsize=[5, 4])\n",
        "\n",
        "# Total number of temperature profiles to plot\n",
        "n_temp = len(T_num)\n",
        "\n",
        "# Use an inclusive color map\n",
        "cividis = cm.get_cmap(\"cividis\", n_temp)\n",
        "colour = [cividis(i / n_temp) for i in range(n_temp)]\n",
        "\n",
        "for k in range(len(T_num)):\n",
        "    plt.plot(z, T_num[k], color=colour[k], label=\"t = %.0f s\" % t_vec[k])\n",
        "\n",
        "plt.xlabel('$z$ / m', size=14)\n",
        "plt.ylabel('$T$ / K', size=14)\n",
        "plt.grid()\n",
        "plt.legend()\n",
        "plt.show()"
      ]
    },
    {
      "cell_type": "markdown",
      "id": "1dc00db0",
      "metadata": {
        "id": "1dc00db0"
      },
      "source": [
        "## Calculation of quantities of engineering interest during non-stationary one-dimensional convective cooling of a bar.\n",
        "\n"
      ]
    },
    {
      "cell_type": "markdown",
      "id": "5a0682dc",
      "metadata": {
        "id": "5a0682dc"
      },
      "source": [
        "### Item 1: Heat flux at the beginning of the bar"
      ]
    },
    {
      "cell_type": "markdown",
      "id": "467a5b2c",
      "metadata": {
        "id": "467a5b2c"
      },
      "source": [
        "The heat flux at the beginning of the bar is equivalent to the heat flux removed from the hot body at each time. This quantity is relevant for the design of heat exchangers with extended surfaces, such as fins. In this example, we are analyzing a somewhat simpler physical case, however the methodology is equally applicable."
      ]
    },
    {
      "cell_type": "markdown",
      "id": "1c4e59b0",
      "metadata": {
        "id": "1c4e59b0"
      },
      "source": [
        "The heat flow at the beginning of the bar as a function of time is defined by Fourier's Law:\n",
        "\n",
        "$$ \\dot{Q}|_{z=0} = -k A_{t}  \\frac{\\partial T}{\\partial z} |_{z=0} $$"
      ]
    },
    {
      "cell_type": "markdown",
      "id": "09a9a30e",
      "metadata": {
        "id": "09a9a30e"
      },
      "source": [
        "Where $k = \\alpha \\rho \\hat{c}_p$ is the thermal conductivity in W/m/K, $A_t = \\pi d_i^2/4$ is the cross-sectional area of the bar.\n",
        "\n",
        "Numerically, we can approximate the temperature gradient at $z=0$ using first order forward finite differences:\n",
        "\n",
        "$$  \\frac{\\partial T}{\\partial z} |_{z=0} = \\frac{-3 T_{0}^j + 4 T_1^j - T_2^j }{2\\Delta z} $$\n",
        "\n",
        "Implementation:"
      ]
    },
    {
      "cell_type": "code",
      "execution_count": null,
      "id": "dc468eb7",
      "metadata": {
        "scrolled": false,
        "colab": {
          "base_uri": "https://localhost:8080/"
        },
        "id": "dc468eb7",
        "outputId": "79cbaf5f-28ff-4590-a7db-fd5b66e687be"
      },
      "outputs": [
        {
          "output_type": "stream",
          "name": "stdout",
          "text": [
            "The thermal conductivity of the bar is k = 232.163 W/m/K\n",
            "The cross-sectional area of the bar is A_t = 5.067e-04 m^2\n"
          ]
        }
      ],
      "source": [
        "# Thermal conductivity\n",
        "k = alpha * rho * c_p\n",
        "\n",
        "# Cross-sectional area\n",
        "A_t = np.pi * d_i ** 2 / 4\n",
        "\n",
        "# Print the thermal conductivity and cross-sectional area values\n",
        "print(\"The thermal conductivity of the bar is k = %.3f W/m/K\" % k)\n",
        "print(\"The cross-sectional area of the bar is A_t = %.3e m^2\" % A_t)\n",
        "\n",
        "def flujo_calor_z0(k, A_t, T, dz):\n",
        "    '''\n",
        "    Calculates the heat flux at z = 0 for the\n",
        "    corrective cooling of a bar, using\n",
        "    second-order forward finite differences\n",
        "    for the approximation of the first derivative\n",
        "    '''\n",
        "\n",
        "    dTdz_z0 = (-3 * T[0] + 4 * T[1] - T[2]) / (2 * dz)\n",
        "    return -1 * k * A_t * dTdz_z0\n"
      ]
    },
    {
      "cell_type": "code",
      "execution_count": null,
      "id": "b338627d",
      "metadata": {
        "id": "b338627d"
      },
      "outputs": [],
      "source": [
        "# Initial integration time\n",
        "t = 0\n",
        "\n",
        "# Final integration time\n",
        "t_max = 1800\n",
        "\n",
        "# Record results every 600 s\n",
        "write_interval = 300\n",
        "\n",
        "# List to accumulate the times when heat flux is recorded\n",
        "t_vec = []\n",
        "\n",
        "# Copy of the initial temperature profile\n",
        "T_old = np.copy(T)\n",
        "\n",
        "# List to store the heat flux at z = 0\n",
        "Q_z0 = []\n",
        "\n",
        "while t < t_max:\n",
        "    # Compute the new temperature profile\n",
        "    T_new = T_old + (np.dot(A, T_old) + b) * dt\n",
        "    T_new[-1] = (4 * T_new[-2] - T_new[-3]) / 3\n",
        "\n",
        "    # Record the heat flux at z = 0\n",
        "    Q_z0.append(flujo_calor_z0(k, A_t, T_new, dz))\n",
        "\n",
        "    # Record the time\n",
        "    t_vec.append(t)\n",
        "\n",
        "    # Update time and temperature profile\n",
        "    t += dt\n",
        "    T_old = np.copy(T_new)\n",
        "\n",
        "# Convert time and Q_z0 lists to numpy arrays\n",
        "t_vec = np.array(t_vec)\n",
        "Q_z0 = np.array(Q_z0)\n"
      ]
    },
    {
      "cell_type": "markdown",
      "id": "6148360e",
      "metadata": {
        "id": "6148360e"
      },
      "source": [
        "#### Graphic"
      ]
    },
    {
      "cell_type": "code",
      "execution_count": null,
      "id": "3927d3d5",
      "metadata": {
        "scrolled": false,
        "colab": {
          "base_uri": "https://localhost:8080/",
          "height": 507
        },
        "id": "3927d3d5",
        "outputId": "7e2a4a00-18bd-447e-8784-381381688c7d"
      },
      "outputs": [
        {
          "output_type": "display_data",
          "data": {
            "text/plain": [
              "<Figure size 500x500 with 1 Axes>"
            ],
            "image/png": "[encoded data removed]"
          },
          "metadata": {}
        }
      ],
      "source": [
        "import matplotlib.pyplot as plt\n",
        "\n",
        "plt.figure(figsize=[5,5])\n",
        "plt.plot(t_vec, Q_z0, label='Heat Flux at $z = 0$')\n",
        "plt.xlabel('Time / s')\n",
        "plt.ylabel('Heat Flux at $z = 0$ / W')\n",
        "plt.title('Heat Flux Over Time')\n",
        "plt.grid(True)\n",
        "plt.legend()\n",
        "plt.show()\n"
      ]
    },
    {
      "cell_type": "markdown",
      "id": "4df31895",
      "metadata": {
        "id": "4df31895"
      },
      "source": [
        "### Topic 2: Heat flux removed by natural convection as a function of time."
      ]
    },
    {
      "cell_type": "markdown",
      "id": "c984bd48",
      "metadata": {
        "id": "c984bd48"
      },
      "source": [
        "The flux of heat removed by natural convection, $\\dot{Q}_{nc}$ is equal to the integral of Newton's Cooling Law over the area of the cylindrical mantle of the bar:\n",
        "\n",
        "$$ \\dot{Q}_{nc} = \\int_0^L \\int_0^{2 \\pi} h(T-T_{\\infty}) (R d\\theta dz)  $$"
      ]
    },
    {
      "cell_type": "markdown",
      "id": "6704916c",
      "metadata": {
        "id": "6704916c"
      },
      "source": [
        "Since the profile has angular symmetry, the temperature is a function only of the axial coordinate and not of the angle. Thus, the integral simplifies to:"
      ]
    },
    {
      "cell_type": "markdown",
      "id": "bd4d616f",
      "metadata": {
        "id": "bd4d616f"
      },
      "source": [
        "$$ \\dot{Q}_{nc} = 2 \\pi R h \\int_0^L  (T-T_{\\infty}) dz  $$"
      ]
    },
    {
      "cell_type": "markdown",
      "id": "eb0d7294",
      "metadata": {
        "id": "eb0d7294"
      },
      "source": [
        "We will use the [trapezoidal rule for numerical integration](https://imperial-metricmaths.mobius.cloud/105/110/assignments/497). Applying this rule, the integral at each time instant $j$ can be approximated as follows:"
      ]
    },
    {
      "cell_type": "markdown",
      "id": "96e6784f",
      "metadata": {
        "id": "96e6784f"
      },
      "source": [
        "$$\\int_0^L  (T-T_{\\infty}) dz \\approx \\sum_{i=0}^{N_z-1} \\frac{[(T_i^j-T_{\\infty}) + (T_{i+1}^j-T_{\\infty})]}{2} \\cdot \\Delta z$$\n"
      ]
    },
    {
      "cell_type": "code",
      "execution_count": null,
      "id": "c17b9ddb",
      "metadata": {
        "id": "c17b9ddb"
      },
      "outputs": [],
      "source": [
        "\n",
        "\n",
        "def Q_natconv(R, h, T, T_inf, dz):\n",
        "    '''\n",
        "    Calculates the heat removed by natural convection\n",
        "    during the transient one-dimensional cooling\n",
        "    of a solid bar.\n",
        "\n",
        "    Parameters:\n",
        "    R (float): Radius of the bar (m).\n",
        "    h (float): Convective heat transfer coefficient (W/m^2/K).\n",
        "    T (array-like): Temperature distribution along the bar.\n",
        "    T_inf (float): Ambient temperature (K).\n",
        "    dz (float): Spatial step size (m).\n",
        "\n",
        "    Returns:\n",
        "    float: Total heat removed by convection (W).\n",
        "    '''\n",
        "    # Integral calculated with the trapezoidal method\n",
        "    I = np.sum(((T[:-1] - T_inf) + (T[1:] - T_inf)) / 2 * dz)\n",
        "\n",
        "    # Alternative: verify that the same value is obtained\n",
        "    # I = np.trapz((T - T_inf), z)\n",
        "\n",
        "    return 2 * np.pi * R * h * I\n"
      ]
    },
    {
      "cell_type": "code",
      "execution_count": null,
      "id": "ee8f96f4",
      "metadata": {
        "id": "ee8f96f4"
      },
      "outputs": [],
      "source": [
        "# Initial integration time\n",
        "t = 0\n",
        "\n",
        "# Final integration time\n",
        "t_max = 1800\n",
        "\n",
        "# Recording interval for results\n",
        "write_interval = 300\n",
        "\n",
        "# List to accumulate times for which heat flux is recorded\n",
        "t_vec = []\n",
        "\n",
        "# Create a copy of the initial temperature\n",
        "T_old = np.copy(T)\n",
        "\n",
        "# List to store the heat flux at z = 0\n",
        "Q_z0 = []\n",
        "\n",
        "# List to store the heat flux removed by natural convection\n",
        "Q_nc = []\n",
        "\n",
        "# Define the radius as an auxiliary variable\n",
        "R = d_i / 2\n",
        "\n",
        "while t < t_max:\n",
        "    # Compute the new temperature profile\n",
        "    T_new = T_old + (np.dot(A, T_old) + b) * dt\n",
        "    T_new[-1] = (4 * T_new[-2] - T_new[-3]) / 3\n",
        "\n",
        "    # Record the heat flux at z = 0\n",
        "    Q_z0.append(flujo_calor_z0(k, A_t, T_new, dz))\n",
        "\n",
        "    # Record the heat flux removed by natural convection\n",
        "    Q_nc.append(Q_natconv(R, h, T_new, T_inf, dz))\n",
        "\n",
        "    # Record the time\n",
        "    t_vec.append(t)\n",
        "\n",
        "    # Update time\n",
        "    t += dt\n",
        "    # print(t)\n",
        "\n",
        "    # Update the old temperature profile\n",
        "    T_old = np.copy(T_new)\n",
        "\n",
        "# Convert lists to arrays\n",
        "t_vec = np.array(t_vec)\n",
        "Q_z0 = np.array(Q_z0)\n",
        "Q_nc = np.array(Q_nc)\n"
      ]
    },
    {
      "cell_type": "markdown",
      "id": "6cf8a7bc",
      "metadata": {
        "id": "6cf8a7bc"
      },
      "source": [
        "#### Visualization"
      ]
    },
    {
      "cell_type": "code",
      "execution_count": null,
      "id": "266265cc",
      "metadata": {
        "scrolled": false,
        "colab": {
          "base_uri": "https://localhost:8080/",
          "height": 408
        },
        "id": "266265cc",
        "outputId": "143cd6fc-d8f6-4ca5-c86a-1c97ffcf7b0e"
      },
      "outputs": [
        {
          "output_type": "display_data",
          "data": {
            "text/plain": [
              "<Figure size 600x400 with 2 Axes>"
            ],
            "image/png": "[encoded data removed]"
          },
          "metadata": {}
        }
      ],
      "source": [
        "# The subplots command allows for plotting two graphs in one\n",
        "fig, axs = plt.subplots(1, 2, figsize=[6, 4])\n",
        "\n",
        "# Plot the heat flux at z = 0 in the first graph\n",
        "axs[0].plot(t_vec, Q_z0, color='red', label='$\\dot{Q}|_{z=0}$')\n",
        "\n",
        "# Axis labels for the first graph\n",
        "axs[0].set_xlabel('Time / s')\n",
        "axs[0].set_ylabel('Heat Flux / W')\n",
        "\n",
        "# Display legend for the first graph\n",
        "axs[0].legend()\n",
        "\n",
        "# Plot the natural convection heat flux in the second graph\n",
        "axs[1].plot(t_vec, Q_nc, color='blue', label='$\\dot{Q}_{nc}$')\n",
        "\n",
        "# X-axis label for the second graph\n",
        "axs[1].set_xlabel('Time / s')\n",
        "\n",
        "# Display legend for the second graph\n",
        "axs[1].legend()\n",
        "\n",
        "# Show the plot\n",
        "plt.show()\n"
      ]
    },
    {
      "cell_type": "markdown",
      "id": "dc53476c",
      "metadata": {
        "id": "dc53476c"
      },
      "source": [
        "### Topic 3: Macroscopic energy balance"
      ]
    },
    {
      "cell_type": "markdown",
      "id": "98aaf7f8",
      "metadata": {
        "id": "98aaf7f8"
      },
      "source": [
        "What we have just done is to calculate important quantities appearing in macroscopic energy balances from results obtained from microscopic balances. To find the (negative) heat accumulation in the bar, recall that the macroscopic energy balance can be written in general terms as:\n",
        "\n",
        "$$ \\text{entry} - \\text{exit} + \\text{net generation} = \\text{accumulation}$$."
      ]
    },
    {
      "cell_type": "markdown",
      "id": "b9036999",
      "metadata": {
        "id": "b9036999"
      },
      "source": [
        "Since there is no net generation, the energy accumulation is equal to the heat input to the bar at $z = 0$ minus the heat output by natural convection through the cylindrical mantle of the bar.\n",
        "\n",
        "$$ \\frac{\\partial}{\\partial t} \\int_V (\\rho \\hat{c}_p T) dV = -k A_{t}  \\frac{\\partial T}{\\partial z} |_{z=0} - \\int_0^L \\int_0^{2 \\pi} h(T-T_{\\infty}) (R d\\theta dz) =  \\dot{Q}|_{z=0} - \\dot{Q}_{nc}$$\n",
        "\n",
        "Then, we can add one more graph to our previous graph:"
      ]
    },
    {
      "cell_type": "code",
      "execution_count": null,
      "id": "9bb998b8",
      "metadata": {
        "colab": {
          "base_uri": "https://localhost:8080/",
          "height": 408
        },
        "id": "9bb998b8",
        "outputId": "c8f0685f-5c9a-4acc-b227-b46702befbfe"
      },
      "outputs": [
        {
          "output_type": "display_data",
          "data": {
            "text/plain": [
              "<Figure size 1000x400 with 3 Axes>"
            ],
            "image/png": "[encoded data removed]"
          },
          "metadata": {}
        }
      ],
      "source": [
        "# Create a figure with 3 subplots\n",
        "fig, axs = plt.subplots(1, 3, figsize=[10, 4])\n",
        "\n",
        "# Plot the heat flux at z = 0 in the first subplot\n",
        "axs[0].plot(t_vec, Q_z0, color='red', label='$\\dot{Q}|_{z=0}$')\n",
        "\n",
        "# Plot the natural convection heat flux in the second subplot\n",
        "axs[1].plot(t_vec, Q_nc, color='blue', label='$\\dot{Q}_{nc}$')\n",
        "\n",
        "# Plot the accumulation (difference between fluxes) in the third subplot\n",
        "axs[2].plot(t_vec, (Q_z0 - Q_nc), color='black', label='Accumulation')\n",
        "\n",
        "# Set x-axis labels for all subplots\n",
        "axs[0].set_xlabel('Time / s')\n",
        "axs[1].set_xlabel('Time / s')\n",
        "axs[2].set_xlabel('Time / s')\n",
        "\n",
        "# Set y-axis label for the first subplot\n",
        "axs[0].set_ylabel('Heat Flux / W')\n",
        "\n",
        "# Add legends to the subplots\n",
        "axs[0].legend()\n",
        "axs[1].legend()\n",
        "axs[2].legend()\n",
        "\n",
        "# Show the plot\n",
        "plt.show()\n"
      ]
    }
  ],
  "metadata": {
    "@webio": {
      "lastCommId": null,
      "lastKernelId": null
    },
    "kernelspec": {
      "display_name": "Python 3 (ipykernel)",
      "language": "python",
      "name": "python3"
    },
    "language_info": {
      "codemirror_mode": {
        "name": "ipython",
        "version": 3
      },
      "file_extension": ".py",
      "mimetype": "text/x-python",
      "name": "python",
      "nbconvert_exporter": "python",
      "pygments_lexer": "ipython3",
      "version": "3.10.4"
    },
    "colab": {
      "provenance": [],
      "include_colab_link": true
    }
  },
  "nbformat": 4,
  "nbformat_minor": 5
}